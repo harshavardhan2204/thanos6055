{
  "nbformat": 4,
  "nbformat_minor": 0,
  "metadata": {
    "colab": {
      "name": "5505monetassignment.ipynb",
      "provenance": [],
      "collapsed_sections": [],
      "authorship_tag": "ABX9TyOEfzZhf2lLWAKBVB2OfBkN",
      "include_colab_link": true
    },
    "kernelspec": {
      "name": "python3",
      "display_name": "Python 3"
    },
    "language_info": {
      "name": "python"
    }
  },
  "cells": [
    {
      "cell_type": "markdown",
      "metadata": {
        "id": "view-in-github",
        "colab_type": "text"
      },
      "source": [
        "<a href=\"https://colab.research.google.com/github/harshavardhan2204/thanos6055/blob/main/5505monetassignment.ipynb\" target=\"_parent\"><img src=\"https://colab.research.google.com/assets/colab-badge.svg\" alt=\"Open In Colab\"/></a>"
      ]
    },
    {
      "cell_type": "code",
      "metadata": {
        "id": "8VIs8qxH9_xG"
      },
      "source": [
        "import numpy as np\n",
        "from matplotlib import pyplot as plt\n",
        "from datascience import *\n",
        "import pandas as pd\n",
        "import math\n",
        "from sklearn import linear_model\n"
      ],
      "execution_count": 31,
      "outputs": []
    },
    {
      "cell_type": "code",
      "metadata": {
        "colab": {
          "base_uri": "https://localhost:8080/",
          "height": 417
        },
        "id": "z4z04OzOBpzZ",
        "outputId": "3445d233-d04c-4739-c262-53de228ef34a"
      },
      "source": [
        "monet_data = pd.read_csv('monet.csv')\n",
        "monet_data"
      ],
      "execution_count": 2,
      "outputs": [
        {
          "output_type": "execute_result",
          "data": {
            "text/html": [
              "<div>\n",
              "<style scoped>\n",
              "    .dataframe tbody tr th:only-of-type {\n",
              "        vertical-align: middle;\n",
              "    }\n",
              "\n",
              "    .dataframe tbody tr th {\n",
              "        vertical-align: top;\n",
              "    }\n",
              "\n",
              "    .dataframe thead th {\n",
              "        text-align: right;\n",
              "    }\n",
              "</style>\n",
              "<table border=\"1\" class=\"dataframe\">\n",
              "  <thead>\n",
              "    <tr style=\"text-align: right;\">\n",
              "      <th></th>\n",
              "      <th>PRICE</th>\n",
              "      <th>HEIGHT</th>\n",
              "      <th>WIDTH</th>\n",
              "      <th>SIGNED</th>\n",
              "      <th>PICTURE</th>\n",
              "      <th>HOUSE</th>\n",
              "    </tr>\n",
              "  </thead>\n",
              "  <tbody>\n",
              "    <tr>\n",
              "      <th>0</th>\n",
              "      <td>3.993780</td>\n",
              "      <td>21.3</td>\n",
              "      <td>25.6</td>\n",
              "      <td>1</td>\n",
              "      <td>1</td>\n",
              "      <td>1</td>\n",
              "    </tr>\n",
              "    <tr>\n",
              "      <th>1</th>\n",
              "      <td>8.800000</td>\n",
              "      <td>31.9</td>\n",
              "      <td>25.6</td>\n",
              "      <td>1</td>\n",
              "      <td>2</td>\n",
              "      <td>2</td>\n",
              "    </tr>\n",
              "    <tr>\n",
              "      <th>2</th>\n",
              "      <td>0.131694</td>\n",
              "      <td>6.9</td>\n",
              "      <td>15.9</td>\n",
              "      <td>0</td>\n",
              "      <td>3</td>\n",
              "      <td>3</td>\n",
              "    </tr>\n",
              "    <tr>\n",
              "      <th>3</th>\n",
              "      <td>2.037500</td>\n",
              "      <td>25.7</td>\n",
              "      <td>32.0</td>\n",
              "      <td>1</td>\n",
              "      <td>4</td>\n",
              "      <td>2</td>\n",
              "    </tr>\n",
              "    <tr>\n",
              "      <th>4</th>\n",
              "      <td>1.487500</td>\n",
              "      <td>25.7</td>\n",
              "      <td>32.0</td>\n",
              "      <td>1</td>\n",
              "      <td>4</td>\n",
              "      <td>2</td>\n",
              "    </tr>\n",
              "    <tr>\n",
              "      <th>...</th>\n",
              "      <td>...</td>\n",
              "      <td>...</td>\n",
              "      <td>...</td>\n",
              "      <td>...</td>\n",
              "      <td>...</td>\n",
              "      <td>...</td>\n",
              "    </tr>\n",
              "    <tr>\n",
              "      <th>425</th>\n",
              "      <td>5.282500</td>\n",
              "      <td>25.6</td>\n",
              "      <td>39.4</td>\n",
              "      <td>1</td>\n",
              "      <td>375</td>\n",
              "      <td>1</td>\n",
              "    </tr>\n",
              "    <tr>\n",
              "      <th>426</th>\n",
              "      <td>9.352500</td>\n",
              "      <td>25.9</td>\n",
              "      <td>39.6</td>\n",
              "      <td>1</td>\n",
              "      <td>375</td>\n",
              "      <td>2</td>\n",
              "    </tr>\n",
              "    <tr>\n",
              "      <th>427</th>\n",
              "      <td>8.252500</td>\n",
              "      <td>25.6</td>\n",
              "      <td>39.6</td>\n",
              "      <td>1</td>\n",
              "      <td>375</td>\n",
              "      <td>1</td>\n",
              "    </tr>\n",
              "    <tr>\n",
              "      <th>428</th>\n",
              "      <td>3.410000</td>\n",
              "      <td>25.6</td>\n",
              "      <td>39.4</td>\n",
              "      <td>1</td>\n",
              "      <td>386</td>\n",
              "      <td>2</td>\n",
              "    </tr>\n",
              "    <tr>\n",
              "      <th>429</th>\n",
              "      <td>1.542500</td>\n",
              "      <td>25.7</td>\n",
              "      <td>32.0</td>\n",
              "      <td>1</td>\n",
              "      <td>387</td>\n",
              "      <td>1</td>\n",
              "    </tr>\n",
              "  </tbody>\n",
              "</table>\n",
              "<p>430 rows × 6 columns</p>\n",
              "</div>"
            ],
            "text/plain": [
              "        PRICE  HEIGHT  WIDTH  SIGNED  PICTURE  HOUSE \n",
              "0    3.993780    21.3   25.6       1        1       1\n",
              "1    8.800000    31.9   25.6       1        2       2\n",
              "2    0.131694     6.9   15.9       0        3       3\n",
              "3    2.037500    25.7   32.0       1        4       2\n",
              "4    1.487500    25.7   32.0       1        4       2\n",
              "..        ...     ...    ...     ...      ...     ...\n",
              "425  5.282500    25.6   39.4       1      375       1\n",
              "426  9.352500    25.9   39.6       1      375       2\n",
              "427  8.252500    25.6   39.6       1      375       1\n",
              "428  3.410000    25.6   39.4       1      386       2\n",
              "429  1.542500    25.7   32.0       1      387       1\n",
              "\n",
              "[430 rows x 6 columns]"
            ]
          },
          "metadata": {},
          "execution_count": 2
        }
      ]
    },
    {
      "cell_type": "code",
      "metadata": {
        "id": "sF1odn1sDacs"
      },
      "source": [
        "monet_data['SIZE']=monet_data['HEIGHT']*monet_data['WIDTH']"
      ],
      "execution_count": 3,
      "outputs": []
    },
    {
      "cell_type": "code",
      "metadata": {
        "colab": {
          "base_uri": "https://localhost:8080/",
          "height": 417
        },
        "id": "8yibBiu4FCP9",
        "outputId": "af793f23-ae4d-4ef6-8961-b300ee3bbe8a"
      },
      "source": [
        "monet_data"
      ],
      "execution_count": 4,
      "outputs": [
        {
          "output_type": "execute_result",
          "data": {
            "text/html": [
              "<div>\n",
              "<style scoped>\n",
              "    .dataframe tbody tr th:only-of-type {\n",
              "        vertical-align: middle;\n",
              "    }\n",
              "\n",
              "    .dataframe tbody tr th {\n",
              "        vertical-align: top;\n",
              "    }\n",
              "\n",
              "    .dataframe thead th {\n",
              "        text-align: right;\n",
              "    }\n",
              "</style>\n",
              "<table border=\"1\" class=\"dataframe\">\n",
              "  <thead>\n",
              "    <tr style=\"text-align: right;\">\n",
              "      <th></th>\n",
              "      <th>PRICE</th>\n",
              "      <th>HEIGHT</th>\n",
              "      <th>WIDTH</th>\n",
              "      <th>SIGNED</th>\n",
              "      <th>PICTURE</th>\n",
              "      <th>HOUSE</th>\n",
              "      <th>SIZE</th>\n",
              "    </tr>\n",
              "  </thead>\n",
              "  <tbody>\n",
              "    <tr>\n",
              "      <th>0</th>\n",
              "      <td>3.993780</td>\n",
              "      <td>21.3</td>\n",
              "      <td>25.6</td>\n",
              "      <td>1</td>\n",
              "      <td>1</td>\n",
              "      <td>1</td>\n",
              "      <td>545.28</td>\n",
              "    </tr>\n",
              "    <tr>\n",
              "      <th>1</th>\n",
              "      <td>8.800000</td>\n",
              "      <td>31.9</td>\n",
              "      <td>25.6</td>\n",
              "      <td>1</td>\n",
              "      <td>2</td>\n",
              "      <td>2</td>\n",
              "      <td>816.64</td>\n",
              "    </tr>\n",
              "    <tr>\n",
              "      <th>2</th>\n",
              "      <td>0.131694</td>\n",
              "      <td>6.9</td>\n",
              "      <td>15.9</td>\n",
              "      <td>0</td>\n",
              "      <td>3</td>\n",
              "      <td>3</td>\n",
              "      <td>109.71</td>\n",
              "    </tr>\n",
              "    <tr>\n",
              "      <th>3</th>\n",
              "      <td>2.037500</td>\n",
              "      <td>25.7</td>\n",
              "      <td>32.0</td>\n",
              "      <td>1</td>\n",
              "      <td>4</td>\n",
              "      <td>2</td>\n",
              "      <td>822.40</td>\n",
              "    </tr>\n",
              "    <tr>\n",
              "      <th>4</th>\n",
              "      <td>1.487500</td>\n",
              "      <td>25.7</td>\n",
              "      <td>32.0</td>\n",
              "      <td>1</td>\n",
              "      <td>4</td>\n",
              "      <td>2</td>\n",
              "      <td>822.40</td>\n",
              "    </tr>\n",
              "    <tr>\n",
              "      <th>...</th>\n",
              "      <td>...</td>\n",
              "      <td>...</td>\n",
              "      <td>...</td>\n",
              "      <td>...</td>\n",
              "      <td>...</td>\n",
              "      <td>...</td>\n",
              "      <td>...</td>\n",
              "    </tr>\n",
              "    <tr>\n",
              "      <th>425</th>\n",
              "      <td>5.282500</td>\n",
              "      <td>25.6</td>\n",
              "      <td>39.4</td>\n",
              "      <td>1</td>\n",
              "      <td>375</td>\n",
              "      <td>1</td>\n",
              "      <td>1008.64</td>\n",
              "    </tr>\n",
              "    <tr>\n",
              "      <th>426</th>\n",
              "      <td>9.352500</td>\n",
              "      <td>25.9</td>\n",
              "      <td>39.6</td>\n",
              "      <td>1</td>\n",
              "      <td>375</td>\n",
              "      <td>2</td>\n",
              "      <td>1025.64</td>\n",
              "    </tr>\n",
              "    <tr>\n",
              "      <th>427</th>\n",
              "      <td>8.252500</td>\n",
              "      <td>25.6</td>\n",
              "      <td>39.6</td>\n",
              "      <td>1</td>\n",
              "      <td>375</td>\n",
              "      <td>1</td>\n",
              "      <td>1013.76</td>\n",
              "    </tr>\n",
              "    <tr>\n",
              "      <th>428</th>\n",
              "      <td>3.410000</td>\n",
              "      <td>25.6</td>\n",
              "      <td>39.4</td>\n",
              "      <td>1</td>\n",
              "      <td>386</td>\n",
              "      <td>2</td>\n",
              "      <td>1008.64</td>\n",
              "    </tr>\n",
              "    <tr>\n",
              "      <th>429</th>\n",
              "      <td>1.542500</td>\n",
              "      <td>25.7</td>\n",
              "      <td>32.0</td>\n",
              "      <td>1</td>\n",
              "      <td>387</td>\n",
              "      <td>1</td>\n",
              "      <td>822.40</td>\n",
              "    </tr>\n",
              "  </tbody>\n",
              "</table>\n",
              "<p>430 rows × 7 columns</p>\n",
              "</div>"
            ],
            "text/plain": [
              "        PRICE  HEIGHT  WIDTH  SIGNED  PICTURE  HOUSE      SIZE\n",
              "0    3.993780    21.3   25.6       1        1       1   545.28\n",
              "1    8.800000    31.9   25.6       1        2       2   816.64\n",
              "2    0.131694     6.9   15.9       0        3       3   109.71\n",
              "3    2.037500    25.7   32.0       1        4       2   822.40\n",
              "4    1.487500    25.7   32.0       1        4       2   822.40\n",
              "..        ...     ...    ...     ...      ...     ...      ...\n",
              "425  5.282500    25.6   39.4       1      375       1  1008.64\n",
              "426  9.352500    25.9   39.6       1      375       2  1025.64\n",
              "427  8.252500    25.6   39.6       1      375       1  1013.76\n",
              "428  3.410000    25.6   39.4       1      386       2  1008.64\n",
              "429  1.542500    25.7   32.0       1      387       1   822.40\n",
              "\n",
              "[430 rows x 7 columns]"
            ]
          },
          "metadata": {},
          "execution_count": 4
        }
      ]
    },
    {
      "cell_type": "code",
      "metadata": {
        "id": "Y7rNPc1cFEJx"
      },
      "source": [
        "plt.scatter(monet_data['WIDTH'],monet_data['PRICE'])"
      ],
      "execution_count": null,
      "outputs": []
    },
    {
      "cell_type": "code",
      "metadata": {
        "id": "VE_4aAvYPwK8"
      },
      "source": [
        "x_axis = np.array(monet_data['WIDTH'])\n",
        "y_axis = np.array(monet_data['PRICE'])\n",
        "x_axis = x_axis[:430]\n",
        "y_axis = y_axis[:430]\n",
        "plt.scatter(x_axis,y_axis)"
      ],
      "execution_count": null,
      "outputs": []
    },
    {
      "cell_type": "code",
      "metadata": {
        "id": "cfpAkSBMU0jG"
      },
      "source": [
        "def predicted_values(the0,the1):\n",
        "  x=np.ones(np.size(monet_data['WIDTH']), dtype=float)\n",
        "  x=x[:430]\n",
        "  y=np.array(monet_data['WIDTH'])\n",
        "  y=y[:430]\n",
        "  xi=np.array([x,y])\n",
        "  the2=np.array([the0,the1])\n",
        "  global h0\n",
        "  h0=np.dot(the2,xi)\n",
        "  \n",
        "\n",
        "  return (h0)\n",
        "  \n",
        "\n",
        "\n",
        "  "
      ],
      "execution_count": 7,
      "outputs": []
    },
    {
      "cell_type": "code",
      "metadata": {
        "colab": {
          "base_uri": "https://localhost:8080/",
          "height": 0
        },
        "id": "plbUmjRAVfEf",
        "outputId": "48d52624-a370-460f-b66a-7a1f18066332"
      },
      "source": [
        "def gradient_values(thej0,thej1):\n",
        "\n",
        "  #gradient descent value for thejo\n",
        "  i=430\n",
        "  z = np.array(monet_data['PRICE'])\n",
        "  sigma_pred = 0\n",
        "  h0 = predicted_values(0.01,0.01)\n",
        "  for k in range (0,430):\n",
        "    sigma_pred = sigma_pred + (h0[k] - z[k])\n",
        "  \n",
        "  thej0 = thej0 - ((0.001/i) * (sigma_pred))\n",
        "\n",
        "  #gradient descent value for thej1\n",
        "\n",
        "  sigma_pred1 = 0\n",
        "  p = np.array(monet_data['WIDTH'])\n",
        "\n",
        "  for n in range (0,430):\n",
        "    sigma_pred1 = sigma_pred1 + ((h0[n] - z[n]) * p[n])\n",
        "\n",
        "  thej1 = thej1 - ((0.001/i) * (sigma_pred1))\n",
        "\n",
        "\n",
        "  return (thej0,thej1)\n",
        "\n",
        "gradient_values(0,0)\n",
        "\n",
        "\n",
        "\n",
        "     \n",
        "\n",
        "     \n",
        "\n",
        "        \n",
        "\n",
        "\n",
        "\n",
        "\n",
        "\n"
      ],
      "execution_count": 8,
      "outputs": [
        {
          "output_type": "execute_result",
          "data": {
            "text/plain": [
              "(0.0027588823093023253, 0.10310604485813946)"
            ]
          },
          "metadata": {},
          "execution_count": 8
        }
      ]
    },
    {
      "cell_type": "code",
      "metadata": {
        "id": "u_1Dpr7zgJzM"
      },
      "source": [
        "h1 = predicted_values(0.00275,0.1031)\n",
        "h1"
      ],
      "execution_count": null,
      "outputs": []
    },
    {
      "cell_type": "code",
      "metadata": {
        "colab": {
          "base_uri": "https://localhost:8080/",
          "height": 0
        },
        "id": "GNDmwj7UpMmc",
        "outputId": "6016cfd6-2bd8-4868-f250-9c56a17ad04e"
      },
      "source": [
        "gradient_values(0.00275,0.1031)"
      ],
      "execution_count": 10,
      "outputs": [
        {
          "output_type": "execute_result",
          "data": {
            "text/plain": [
              "(0.005508882309302325, 0.20620604485813945)"
            ]
          },
          "metadata": {},
          "execution_count": 10
        }
      ]
    },
    {
      "cell_type": "code",
      "metadata": {
        "id": "WWAD55PPuhZT"
      },
      "source": [
        "predicted_values(0.00558,0.206)"
      ],
      "execution_count": null,
      "outputs": []
    },
    {
      "cell_type": "code",
      "metadata": {
        "colab": {
          "base_uri": "https://localhost:8080/",
          "height": 638
        },
        "id": "liGCP7Io1Fyp",
        "outputId": "a0680c1c-1e84-49fa-9f5e-e915010a79fb"
      },
      "source": [
        "plt.figure(figsize=(10,10))\n",
        "\n",
        "plt.xlabel('WIDTH')\n",
        "plt.ylabel('PRICE')\n",
        "plt.title('MODEL 1 WIDTH vs PRICE')\n",
        "\n",
        "plt.plot(monet_data['WIDTH'],h0,color='r')\n",
        "plt.scatter(monet_data['WIDTH'],monet_data['PRICE'])"
      ],
      "execution_count": 21,
      "outputs": [
        {
          "output_type": "execute_result",
          "data": {
            "text/plain": [
              "<matplotlib.collections.PathCollection at 0x7f871da69750>"
            ]
          },
          "metadata": {},
          "execution_count": 21
        },
        {
          "output_type": "display_data",
          "data": {
            "image/png": "[encoded data removed]",
            "text/plain": [
              "<Figure size 720x720 with 1 Axes>"
            ]
          },
          "metadata": {
            "needs_background": "light"
          }
        }
      ]
    },
    {
      "cell_type": "markdown",
      "metadata": {
        "id": "_e_V5vWjAK4U"
      },
      "source": [
        "root mean square"
      ]
    },
    {
      "cell_type": "code",
      "metadata": {
        "colab": {
          "base_uri": "https://localhost:8080/",
          "height": 0
        },
        "id": "TorLsaJq_XKK",
        "outputId": "edd4223c-bc21-41dd-f6d2-cf34945e32d1"
      },
      "source": [
        "#root mean sq error for model1( width vs price)\n",
        "\n",
        "mse = np.square(np.subtract(monet_data['WIDTH'],h0)).mean()\n",
        "rmse = math.sqrt(mse)\n",
        "rmse "
      ],
      "execution_count": 13,
      "outputs": [
        {
          "output_type": "execute_result",
          "data": {
            "text/plain": [
              "26.80665386422314"
            ]
          },
          "metadata": {},
          "execution_count": 13
        }
      ]
    },
    {
      "cell_type": "markdown",
      "metadata": {
        "id": "MFPhRrUkAPvS"
      },
      "source": [
        "MODEL 2"
      ]
    },
    {
      "cell_type": "code",
      "metadata": {
        "id": "vPLe9eGgASMl"
      },
      "source": [
        "def predicted_values2(the0,the1):\n",
        "  x=np.ones(np.size(monet_data['WIDTH']), dtype=float)\n",
        "  x=x[:430]\n",
        "  y=np.array(monet_data['HEIGHT'])\n",
        "  y=y[:430]\n",
        "  xi=np.array([x,y])\n",
        "  the2=np.array([the0,the1])\n",
        "  global h01\n",
        "  h01=np.dot(the2,xi)\n",
        "  \n",
        "\n",
        "  return (h01)\n",
        "  \n",
        "\n",
        "\n",
        "  "
      ],
      "execution_count": 14,
      "outputs": []
    },
    {
      "cell_type": "code",
      "metadata": {
        "colab": {
          "base_uri": "https://localhost:8080/",
          "height": 0
        },
        "id": "a_8vHVO5Are8",
        "outputId": "73329d85-15c7-4a4f-de5e-e2fdbbdd751a"
      },
      "source": [
        "def gradient_values(thej0,thej1):\n",
        "\n",
        "  #gradient descent value for thejo\n",
        "  i=430\n",
        "  z = np.array(monet_data['PRICE'])\n",
        "  sigma_pred = 0\n",
        "  h01 = predicted_values2(0.01,0.01)\n",
        "  for k in range (0,430):\n",
        "    sigma_pred = sigma_pred + (h01[k] - z[k])\n",
        "  \n",
        "  thej0 = thej0 - ((0.001/i) * (sigma_pred))\n",
        "\n",
        "  #gradient descent value for thej1\n",
        "\n",
        "  sigma_pred1 = 0\n",
        "  p = np.array(monet_data['WIDTH'])\n",
        "\n",
        "  for n in range (0,430):\n",
        "    sigma_pred1 = sigma_pred1 + ((h01[n] - z[n]) * p[n])\n",
        "\n",
        "  thej1 = thej1 - ((0.001/i) * (sigma_pred1))\n",
        "\n",
        "\n",
        "  return (thej0,thej1)\n",
        "\n",
        "gradient_values(0,0)\n",
        "\n",
        "\n",
        "\n",
        "     \n",
        "\n",
        "     \n",
        "\n",
        "        \n",
        "\n",
        "\n",
        "\n",
        "\n",
        "\n"
      ],
      "execution_count": 15,
      "outputs": [
        {
          "output_type": "execute_result",
          "data": {
            "text/plain": [
              "(0.002803526495348837, 0.10510085043953495)"
            ]
          },
          "metadata": {},
          "execution_count": 15
        }
      ]
    },
    {
      "cell_type": "code",
      "metadata": {
        "colab": {
          "base_uri": "https://localhost:8080/",
          "height": 0
        },
        "id": "fvZ0TKGtA1r0",
        "outputId": "6429ff84-5bce-445a-88d5-b724ba2b0187"
      },
      "source": [
        "gradient_values(0.00280,0.1051)"
      ],
      "execution_count": 16,
      "outputs": [
        {
          "output_type": "execute_result",
          "data": {
            "text/plain": [
              "(0.005603526495348837, 0.21020085043953496)"
            ]
          },
          "metadata": {},
          "execution_count": 16
        }
      ]
    },
    {
      "cell_type": "code",
      "metadata": {
        "id": "M5nqFuYKBJ68"
      },
      "source": [
        "predicted_values2(0.0056,0.2102)"
      ],
      "execution_count": null,
      "outputs": []
    },
    {
      "cell_type": "code",
      "metadata": {
        "colab": {
          "base_uri": "https://localhost:8080/",
          "height": 638
        },
        "id": "8vzLjtw2BSzO",
        "outputId": "7920bed7-3a9f-42b4-a9b1-e8d35ca61642"
      },
      "source": [
        "plt.figure(figsize=(10,10))\n",
        "\n",
        "plt.xlabel('HEIGHT')\n",
        "plt.ylabel('PRICE')\n",
        "plt.title('MODEL 2 HEIGHT v PRICE')\n",
        "\n",
        "\n",
        "plt.plot(monet_data['HEIGHT'],h01,color='r')\n",
        "plt.scatter(monet_data['HEIGHT'],monet_data['PRICE'])"
      ],
      "execution_count": 23,
      "outputs": [
        {
          "output_type": "execute_result",
          "data": {
            "text/plain": [
              "<matplotlib.collections.PathCollection at 0x7f871d9ca350>"
            ]
          },
          "metadata": {},
          "execution_count": 23
        },
        {
          "output_type": "display_data",
          "data": {
            "image/png": "[encoded data removed]",
            "text/plain": [
              "<Figure size 720x720 with 1 Axes>"
            ]
          },
          "metadata": {
            "needs_background": "light"
          }
        }
      ]
    },
    {
      "cell_type": "code",
      "metadata": {
        "colab": {
          "base_uri": "https://localhost:8080/",
          "height": 0
        },
        "id": "ooSbKmWfcknF",
        "outputId": "ac77cdbf-d89d-4906-83ea-e9dcb3347f2c"
      },
      "source": [
        "#root mean sq error for model2( height vs price)\n",
        "\n",
        "mse1 = np.square(np.subtract(monet_data['HEIGHT'],h01)).mean()\n",
        "rmse1 = math.sqrt(mse1)\n",
        "rmse1 "
      ],
      "execution_count": 25,
      "outputs": [
        {
          "output_type": "execute_result",
          "data": {
            "text/plain": [
              "23.237788422465954"
            ]
          },
          "metadata": {},
          "execution_count": 25
        }
      ]
    },
    {
      "cell_type": "markdown",
      "metadata": {
        "id": "CjHKr7BYQmY9"
      },
      "source": [
        "TASK **2**"
      ]
    },
    {
      "cell_type": "code",
      "metadata": {
        "colab": {
          "base_uri": "https://localhost:8080/",
          "height": 0
        },
        "id": "gSLoPQ37SZ59",
        "outputId": "b9b56a50-f0ad-4cda-9be0-39373f3c2a74"
      },
      "source": [
        "mulvr = linear_model.LinearRegression()\n",
        "mulvr.fit(monet_data[['HEIGHT','WIDTH','SIGNED','PICTURE']],monet_data.PRICE)"
      ],
      "execution_count": 34,
      "outputs": [
        {
          "output_type": "execute_result",
          "data": {
            "text/plain": [
              "LinearRegression(copy_X=True, fit_intercept=True, n_jobs=None, normalize=False)"
            ]
          },
          "metadata": {},
          "execution_count": 34
        }
      ]
    },
    {
      "cell_type": "code",
      "metadata": {
        "colab": {
          "base_uri": "https://localhost:8080/",
          "height": 0
        },
        "id": "JcfBo_GUUdgA",
        "outputId": "0be729be-6858-41f9-a336-08f0f1637c9c"
      },
      "source": [
        "mulvr.coef_"
      ],
      "execution_count": 35,
      "outputs": [
        {
          "output_type": "execute_result",
          "data": {
            "text/plain": [
              "array([0.08929685, 0.10673247, 2.18267773, 0.00329511])"
            ]
          },
          "metadata": {},
          "execution_count": 35
        }
      ]
    },
    {
      "cell_type": "code",
      "metadata": {
        "colab": {
          "base_uri": "https://localhost:8080/",
          "height": 0
        },
        "id": "icdiK3lzYTuT",
        "outputId": "58cc6058-fe1e-45fd-85c8-3f2adf700374"
      },
      "source": [
        "mulvr.intercept_"
      ],
      "execution_count": 36,
      "outputs": [
        {
          "output_type": "execute_result",
          "data": {
            "text/plain": [
              "-5.199779012952642"
            ]
          },
          "metadata": {},
          "execution_count": 36
        }
      ]
    },
    {
      "cell_type": "code",
      "metadata": {
        "id": "YexYtyJCYVno"
      },
      "source": [
        "mulpred = mulvr.predict(monet_data[['HEIGHT','WIDTH','SIGNED','PICTURE']])\n",
        "\n",
        "#predicted values run this\n",
        "mulpred"
      ],
      "execution_count": null,
      "outputs": []
    },
    {
      "cell_type": "code",
      "metadata": {
        "colab": {
          "base_uri": "https://localhost:8080/",
          "height": 0
        },
        "id": "I1zdMC84YwGZ",
        "outputId": "99c776d7-9bd3-4432-9089-de745b5be4c5"
      },
      "source": [
        "#root mean square error for multivariant regreesion model\n",
        "\n",
        "mse3 = np.square(np.subtract(monet_data['PRICE'],mulpred)).mean()\n",
        "rms3 = np.sqrt(mse3)\n",
        "rms3"
      ],
      "execution_count": 49,
      "outputs": [
        {
          "output_type": "execute_result",
          "data": {
            "text/plain": [
              "3.87332647736817"
            ]
          },
          "metadata": {},
          "execution_count": 49
        }
      ]
    },
    {
      "cell_type": "code",
      "metadata": {
        "id": "POU9A3aleQ2W"
      },
      "source": [
        ""
      ],
      "execution_count": null,
      "outputs": []
    }
  ]
}
